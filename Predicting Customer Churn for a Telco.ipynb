{
 "cells": [
  {
   "cell_type": "markdown",
   "metadata": {},
   "source": [
    "* Student Name: Jane Mwangi\n",
    "* TM : Samuel Karu\n",
    "* Cohort : Part-time 4 Data Science "
   ]
  },
  {
   "cell_type": "code",
   "execution_count": 1,
   "metadata": {},
   "outputs": [],
   "source": [
    "# Import necessary libraries\n",
    "import pandas as pd\n",
    "import numpy as np\n",
    "import matplotlib.pyplot as plt\n",
    "import seaborn as sns\n",
    "import statsmodels.api as sm\n",
    "from statsmodels.stats.outliers_influence import variance_inflation_factor\n",
    "from sklearn.metrics import precision_score, accuracy_score, f1_score, recall_score, classification_report, confusion_matrix\n",
    "from sklearn.model_selection import train_test_split\n",
    "from sklearn.linear_model import LogisticRegression\n",
    "from sklearn.tree import DecisionTreeClassifier\n",
    "from sklearn.preprocessing import StandardScaler, LabelEncoder, OneHotEncoder\n",
    "from sklearn.ensemble import RandomForestClassifier\n",
    "from sklearn.model_selection import GridSearchCV\n",
    "from imblearn.over_sampling import SMOTE"
   ]
  },
  {
   "cell_type": "markdown",
   "metadata": {},
   "source": [
    "## Project Objective\n",
    "\n",
    "Identify and prevent customer churn within a telecommunications company to enhance business performance.\n"
   ]
  },
  {
   "cell_type": "markdown",
   "metadata": {},
   "source": [
    "## Business Problem\n",
    "\n",
    "Customer churn, the departure of customers, impacts revenue and profitability. The project aims to identify reasons for churn and develop strategies for its reduction in the telecom industry."
   ]
  },
  {
   "cell_type": "markdown",
   "metadata": {},
   "source": [
    "## Methods\n",
    "\n",
    "The project utizes the CRISP-DM (Cross-Industry Standard Process for Data Mining) methodology, which encompasses several stages:\n",
    "* Business understanding\n",
    "* Data Understanding\n",
    "* Data preparation\n",
    "* Modeling\n",
    "* Evaluation\n",
    "* Deployment\n",
    "\n",
    "During the modeling phase, a range of predictive models will be constructed and assessed. \n",
    "The process will commence with a fundamental logistic regression model and progress towards more intricate models like Decision Trees. \n",
    "Performance evaluation will be conducted using metrics such as accuracy, precision, recall, and F1-score."
   ]
  },
  {
   "cell_type": "markdown",
   "metadata": {},
   "source": [
    "## Data Understanding\n"
   ]
  },
  {
   "cell_type": "code",
   "execution_count": 2,
   "metadata": {},
   "outputs": [],
   "source": [
    "# Loading the dataset\n",
    "data = pd.read_csv(\"bigml_59c28831336c6604c800002a.csv\")"
   ]
  },
  {
   "cell_type": "code",
   "execution_count": 3,
   "metadata": {},
   "outputs": [
    {
     "data": {
      "text/plain": [
       "(3333, 21)"
      ]
     },
     "execution_count": 3,
     "metadata": {},
     "output_type": "execute_result"
    }
   ],
   "source": [
    "# Count the number of rows and columns\n",
    "data.shape\n"
   ]
  },
  {
   "cell_type": "code",
   "execution_count": 4,
   "metadata": {},
   "outputs": [
    {
     "name": "stdout",
     "output_type": "stream",
     "text": [
      "<class 'pandas.core.frame.DataFrame'>\n",
      "RangeIndex: 3333 entries, 0 to 3332\n",
      "Data columns (total 21 columns):\n",
      " #   Column                  Non-Null Count  Dtype  \n",
      "---  ------                  --------------  -----  \n",
      " 0   state                   3333 non-null   object \n",
      " 1   account length          3333 non-null   int64  \n",
      " 2   area code               3333 non-null   int64  \n",
      " 3   phone number            3333 non-null   object \n",
      " 4   international plan      3333 non-null   object \n",
      " 5   voice mail plan         3333 non-null   object \n",
      " 6   number vmail messages   3333 non-null   int64  \n",
      " 7   total day minutes       3333 non-null   float64\n",
      " 8   total day calls         3333 non-null   int64  \n",
      " 9   total day charge        3333 non-null   float64\n",
      " 10  total eve minutes       3333 non-null   float64\n",
      " 11  total eve calls         3333 non-null   int64  \n",
      " 12  total eve charge        3333 non-null   float64\n",
      " 13  total night minutes     3333 non-null   float64\n",
      " 14  total night calls       3333 non-null   int64  \n",
      " 15  total night charge      3333 non-null   float64\n",
      " 16  total intl minutes      3333 non-null   float64\n",
      " 17  total intl calls        3333 non-null   int64  \n",
      " 18  total intl charge       3333 non-null   float64\n",
      " 19  customer service calls  3333 non-null   int64  \n",
      " 20  churn                   3333 non-null   bool   \n",
      "dtypes: bool(1), float64(8), int64(8), object(4)\n",
      "memory usage: 524.2+ KB\n"
     ]
    }
   ],
   "source": [
    "# Get an overview of the DataFrame, including data types\n",
    "data.info()      "
   ]
  },
  {
   "cell_type": "markdown",
   "metadata": {},
   "source": [
    "Summary of Features in the Datset\n",
    "*\tstate: the state the customer lives in\n",
    "*\taccount length: the number of days the customer has had an account\n",
    "*\tarea code: the area code of the customer\n",
    "*\tphone number: the phone number of the customer\n",
    "*\tinternational plan: true if the customer has the international plan, otherwise false\n",
    "*\tvoice mail plan: true if the customer has the voice mail plan, otherwise false\n",
    "*\tnumber vmail messages: the number of voicemails the customer has sent\n",
    "*\ttotal day minutes: total number of minutes the customer has been in calls during the day\n",
    "*\ttotal day calls: total number of calls the user has done during the day\n",
    "*\ttotal day charge: total amount of money the customer was charged by the Telecom company for calls during the day\n",
    "*\ttotal eve minutes: total number of minutes the customer has been in calls during the evening\n",
    "*\ttotal eve calls: total number of calls the customer has done during the evening\n",
    "*\ttotal eve charge: total amount of money the customer was charged by the Telecom company for calls during the evening\n",
    "*\ttotal night minutes: total number of minutes the customer has been in calls during the night\n",
    "*\ttotal night calls: total number of calls the customer has done during the night\n",
    "*\ttotal night charge: total amount of money the customer was charged by the Telecom company for calls during the night\n",
    "*\ttotal intl minutes: total number of minutes the user has been in international calls\n",
    "*\ttotal intl calls: total number of international calls the customer has done\n",
    "*\ttotal intl charge: total amount of money the customer was charged by the Telecom company for international calls\n",
    "*\tcustomer service calls: number of calls the customer has made to customer service\n",
    "*\tchurn: true if the customer terminated their contract, otherwise false\n"
   ]
  },
  {
   "cell_type": "code",
   "execution_count": 5,
   "metadata": {},
   "outputs": [
    {
     "data": {
      "text/html": [
       "<div>\n",
       "<style scoped>\n",
       "    .dataframe tbody tr th:only-of-type {\n",
       "        vertical-align: middle;\n",
       "    }\n",
       "\n",
       "    .dataframe tbody tr th {\n",
       "        vertical-align: top;\n",
       "    }\n",
       "\n",
       "    .dataframe thead th {\n",
       "        text-align: right;\n",
       "    }\n",
       "</style>\n",
       "<table border=\"1\" class=\"dataframe\">\n",
       "  <thead>\n",
       "    <tr style=\"text-align: right;\">\n",
       "      <th></th>\n",
       "      <th>state</th>\n",
       "      <th>account length</th>\n",
       "      <th>area code</th>\n",
       "      <th>phone number</th>\n",
       "      <th>international plan</th>\n",
       "      <th>voice mail plan</th>\n",
       "      <th>number vmail messages</th>\n",
       "      <th>total day minutes</th>\n",
       "      <th>total day calls</th>\n",
       "      <th>total day charge</th>\n",
       "      <th>...</th>\n",
       "      <th>total eve calls</th>\n",
       "      <th>total eve charge</th>\n",
       "      <th>total night minutes</th>\n",
       "      <th>total night calls</th>\n",
       "      <th>total night charge</th>\n",
       "      <th>total intl minutes</th>\n",
       "      <th>total intl calls</th>\n",
       "      <th>total intl charge</th>\n",
       "      <th>customer service calls</th>\n",
       "      <th>churn</th>\n",
       "    </tr>\n",
       "  </thead>\n",
       "  <tbody>\n",
       "    <tr>\n",
       "      <th>0</th>\n",
       "      <td>KS</td>\n",
       "      <td>128</td>\n",
       "      <td>415</td>\n",
       "      <td>382-4657</td>\n",
       "      <td>no</td>\n",
       "      <td>yes</td>\n",
       "      <td>25</td>\n",
       "      <td>265.1</td>\n",
       "      <td>110</td>\n",
       "      <td>45.07</td>\n",
       "      <td>...</td>\n",
       "      <td>99</td>\n",
       "      <td>16.78</td>\n",
       "      <td>244.7</td>\n",
       "      <td>91</td>\n",
       "      <td>11.01</td>\n",
       "      <td>10.0</td>\n",
       "      <td>3</td>\n",
       "      <td>2.70</td>\n",
       "      <td>1</td>\n",
       "      <td>False</td>\n",
       "    </tr>\n",
       "    <tr>\n",
       "      <th>1</th>\n",
       "      <td>OH</td>\n",
       "      <td>107</td>\n",
       "      <td>415</td>\n",
       "      <td>371-7191</td>\n",
       "      <td>no</td>\n",
       "      <td>yes</td>\n",
       "      <td>26</td>\n",
       "      <td>161.6</td>\n",
       "      <td>123</td>\n",
       "      <td>27.47</td>\n",
       "      <td>...</td>\n",
       "      <td>103</td>\n",
       "      <td>16.62</td>\n",
       "      <td>254.4</td>\n",
       "      <td>103</td>\n",
       "      <td>11.45</td>\n",
       "      <td>13.7</td>\n",
       "      <td>3</td>\n",
       "      <td>3.70</td>\n",
       "      <td>1</td>\n",
       "      <td>False</td>\n",
       "    </tr>\n",
       "    <tr>\n",
       "      <th>2</th>\n",
       "      <td>NJ</td>\n",
       "      <td>137</td>\n",
       "      <td>415</td>\n",
       "      <td>358-1921</td>\n",
       "      <td>no</td>\n",
       "      <td>no</td>\n",
       "      <td>0</td>\n",
       "      <td>243.4</td>\n",
       "      <td>114</td>\n",
       "      <td>41.38</td>\n",
       "      <td>...</td>\n",
       "      <td>110</td>\n",
       "      <td>10.30</td>\n",
       "      <td>162.6</td>\n",
       "      <td>104</td>\n",
       "      <td>7.32</td>\n",
       "      <td>12.2</td>\n",
       "      <td>5</td>\n",
       "      <td>3.29</td>\n",
       "      <td>0</td>\n",
       "      <td>False</td>\n",
       "    </tr>\n",
       "    <tr>\n",
       "      <th>3</th>\n",
       "      <td>OH</td>\n",
       "      <td>84</td>\n",
       "      <td>408</td>\n",
       "      <td>375-9999</td>\n",
       "      <td>yes</td>\n",
       "      <td>no</td>\n",
       "      <td>0</td>\n",
       "      <td>299.4</td>\n",
       "      <td>71</td>\n",
       "      <td>50.90</td>\n",
       "      <td>...</td>\n",
       "      <td>88</td>\n",
       "      <td>5.26</td>\n",
       "      <td>196.9</td>\n",
       "      <td>89</td>\n",
       "      <td>8.86</td>\n",
       "      <td>6.6</td>\n",
       "      <td>7</td>\n",
       "      <td>1.78</td>\n",
       "      <td>2</td>\n",
       "      <td>False</td>\n",
       "    </tr>\n",
       "    <tr>\n",
       "      <th>4</th>\n",
       "      <td>OK</td>\n",
       "      <td>75</td>\n",
       "      <td>415</td>\n",
       "      <td>330-6626</td>\n",
       "      <td>yes</td>\n",
       "      <td>no</td>\n",
       "      <td>0</td>\n",
       "      <td>166.7</td>\n",
       "      <td>113</td>\n",
       "      <td>28.34</td>\n",
       "      <td>...</td>\n",
       "      <td>122</td>\n",
       "      <td>12.61</td>\n",
       "      <td>186.9</td>\n",
       "      <td>121</td>\n",
       "      <td>8.41</td>\n",
       "      <td>10.1</td>\n",
       "      <td>3</td>\n",
       "      <td>2.73</td>\n",
       "      <td>3</td>\n",
       "      <td>False</td>\n",
       "    </tr>\n",
       "  </tbody>\n",
       "</table>\n",
       "<p>5 rows × 21 columns</p>\n",
       "</div>"
      ],
      "text/plain": [
       "  state  account length  area code phone number international plan  \\\n",
       "0    KS             128        415     382-4657                 no   \n",
       "1    OH             107        415     371-7191                 no   \n",
       "2    NJ             137        415     358-1921                 no   \n",
       "3    OH              84        408     375-9999                yes   \n",
       "4    OK              75        415     330-6626                yes   \n",
       "\n",
       "  voice mail plan  number vmail messages  total day minutes  total day calls  \\\n",
       "0             yes                     25              265.1              110   \n",
       "1             yes                     26              161.6              123   \n",
       "2              no                      0              243.4              114   \n",
       "3              no                      0              299.4               71   \n",
       "4              no                      0              166.7              113   \n",
       "\n",
       "   total day charge  ...  total eve calls  total eve charge  \\\n",
       "0             45.07  ...               99             16.78   \n",
       "1             27.47  ...              103             16.62   \n",
       "2             41.38  ...              110             10.30   \n",
       "3             50.90  ...               88              5.26   \n",
       "4             28.34  ...              122             12.61   \n",
       "\n",
       "   total night minutes  total night calls  total night charge  \\\n",
       "0                244.7                 91               11.01   \n",
       "1                254.4                103               11.45   \n",
       "2                162.6                104                7.32   \n",
       "3                196.9                 89                8.86   \n",
       "4                186.9                121                8.41   \n",
       "\n",
       "   total intl minutes  total intl calls  total intl charge  \\\n",
       "0                10.0                 3               2.70   \n",
       "1                13.7                 3               3.70   \n",
       "2                12.2                 5               3.29   \n",
       "3                 6.6                 7               1.78   \n",
       "4                10.1                 3               2.73   \n",
       "\n",
       "   customer service calls  churn  \n",
       "0                       1  False  \n",
       "1                       1  False  \n",
       "2                       0  False  \n",
       "3                       2  False  \n",
       "4                       3  False  \n",
       "\n",
       "[5 rows x 21 columns]"
      ]
     },
     "execution_count": 5,
     "metadata": {},
     "output_type": "execute_result"
    }
   ],
   "source": [
    "data.head()"
   ]
  },
  {
   "cell_type": "markdown",
   "metadata": {},
   "source": [
    "# Data Preprocessing"
   ]
  },
  {
   "cell_type": "code",
   "execution_count": 6,
   "metadata": {},
   "outputs": [
    {
     "data": {
      "text/plain": [
       "state                     0\n",
       "account length            0\n",
       "area code                 0\n",
       "phone number              0\n",
       "international plan        0\n",
       "voice mail plan           0\n",
       "number vmail messages     0\n",
       "total day minutes         0\n",
       "total day calls           0\n",
       "total day charge          0\n",
       "total eve minutes         0\n",
       "total eve calls           0\n",
       "total eve charge          0\n",
       "total night minutes       0\n",
       "total night calls         0\n",
       "total night charge        0\n",
       "total intl minutes        0\n",
       "total intl calls          0\n",
       "total intl charge         0\n",
       "customer service calls    0\n",
       "churn                     0\n",
       "dtype: int64"
      ]
     },
     "execution_count": 6,
     "metadata": {},
     "output_type": "execute_result"
    }
   ],
   "source": [
    "# check missing values\n",
    "data.isnull().sum()\n"
   ]
  },
  {
   "cell_type": "markdown",
   "metadata": {},
   "source": [
    "There are no missing values in our dataset"
   ]
  },
  {
   "cell_type": "code",
   "execution_count": 7,
   "metadata": {},
   "outputs": [
    {
     "data": {
      "text/plain": [
       "0"
      ]
     },
     "execution_count": 7,
     "metadata": {},
     "output_type": "execute_result"
    }
   ],
   "source": [
    "# checking for duplicates\n",
    "data.duplicated().sum()"
   ]
  },
  {
   "cell_type": "markdown",
   "metadata": {},
   "source": [
    "There are no duplicates in our data"
   ]
  },
  {
   "cell_type": "markdown",
   "metadata": {},
   "source": [
    "## Exploratory Data Analysis (EDA)\n"
   ]
  },
  {
   "cell_type": "code",
   "execution_count": 8,
   "metadata": {},
   "outputs": [
    {
     "data": {
      "text/plain": [
       "state                       51\n",
       "account length             212\n",
       "area code                    3\n",
       "phone number              3333\n",
       "international plan           2\n",
       "voice mail plan              2\n",
       "number vmail messages       46\n",
       "total day minutes         1667\n",
       "total day calls            119\n",
       "total day charge          1667\n",
       "total eve minutes         1611\n",
       "total eve calls            123\n",
       "total eve charge          1440\n",
       "total night minutes       1591\n",
       "total night calls          120\n",
       "total night charge         933\n",
       "total intl minutes         162\n",
       "total intl calls            21\n",
       "total intl charge          162\n",
       "customer service calls      10\n",
       "churn                        2\n",
       "dtype: int64"
      ]
     },
     "execution_count": 8,
     "metadata": {},
     "output_type": "execute_result"
    }
   ],
   "source": [
    "# Calculate the number of unique values for each column in the dataset\n",
    "data.nunique()"
   ]
  },
  {
   "cell_type": "markdown",
   "metadata": {},
   "source": [
    "* We can see that every phone number is unique with 3333 entries.\n",
    "* We will remove 'phone number' from dataset because it doesn't add value to the analysis, and it can actually make the analysis more challenging due to its unique nature. "
   ]
  },
  {
   "cell_type": "code",
   "execution_count": 9,
   "metadata": {
    "scrolled": true
   },
   "outputs": [],
   "source": [
    "# Dropping phone number\n",
    "\n",
    "data.drop('phone number', axis=1, inplace=True)\n"
   ]
  },
  {
   "cell_type": "markdown",
   "metadata": {},
   "source": [
    "We will Investigate area code and state in order to see if we should keep them or drop them from our analysis"
   ]
  },
  {
   "cell_type": "markdown",
   "metadata": {},
   "source": [
    "We first look at the relationship between area code and state"
   ]
  },
  {
   "cell_type": "code",
   "execution_count": 10,
   "metadata": {},
   "outputs": [
    {
     "data": {
      "text/plain": [
       "<Figure size 2592x1296 with 0 Axes>"
      ]
     },
     "metadata": {},
     "output_type": "display_data"
    },
    {
     "data": {
      "image/png": "[encoded data removed]",
      "text/plain": [
       "<Figure size 432x288 with 1 Axes>"
      ]
     },
     "metadata": {
      "needs_background": "light"
     },
     "output_type": "display_data"
    }
   ],
   "source": [
    "# Create a cross-tabulation of 'state' and 'area code'\n",
    "cross_tab = pd.crosstab(data['state'], data['area code'])\n",
    "\n",
    "# Double the horizontal size of the grouped bar chart\n",
    "plt.figure(figsize=(36, 18))  # Adjust the width (36) as needed\n",
    "\n",
    "ax = cross_tab.plot(kind='bar', stacked=True)\n",
    "\n",
    "# Set labels and title\n",
    "plt.xlabel('Count')\n",
    "plt.ylabel('State')\n",
    "plt.title('Distribution of Area Code by State')\n",
    "plt.legend(title='Area Code', loc='lower right')\n",
    "\n",
    "# Adjust layout\n",
    "plt.tight_layout()\n",
    "plt.show()"
   ]
  },
  {
   "cell_type": "markdown",
   "metadata": {},
   "source": [
    "The graph above shows that the 3 area codes are distributed throughout the different states."
   ]
  },
  {
   "cell_type": "markdown",
   "metadata": {},
   "source": [
    "Next we want to look at the relationship between area code and churn"
   ]
  },
  {
   "cell_type": "code",
   "execution_count": 11,
   "metadata": {},
   "outputs": [
    {
     "data": {
      "image/png": "[encoded data removed]",
      "text/plain": [
       "<Figure size 432x288 with 1 Axes>"
      ]
     },
     "metadata": {
      "needs_background": "light"
     },
     "output_type": "display_data"
    }
   ],
   "source": [
    "# Calculate the total number of churned customers by area code\n",
    "total_churned_by_area = data[data['churn'] == True]['area code'].value_counts()\n",
    "\n",
    "# Calculate the percentage of churned customers by area code\n",
    "churn_percentages = (total_churned_by_area / total_churned_by_area.sum()) * 100\n",
    "\n",
    "# Sort the area codes by percentage in descending order\n",
    "churn_percentages = churn_percentages.sort_values(ascending=False)\n",
    "\n",
    "# Create a bar plot to show the percentage of churned customers by area code\n",
    "plt.figure(figsize=(6, 4))  # Adjust the figure size as needed\n",
    "ax = sns.barplot(x=churn_percentages.index, y=churn_percentages.values, palette='Set1')\n",
    "\n",
    "# Set labels and title\n",
    "plt.xlabel('Area Code')\n",
    "plt.ylabel('Percentage of Churned Customers (%)')\n",
    "plt.title('Percentage of Churned Customers (Churn=True) by Area Code')\n",
    "\n",
    "# Rotate x-axis labels for better readability\n",
    "plt.xticks(rotation=0)\n",
    "\n",
    "# Adjust layout\n",
    "plt.tight_layout()\n",
    "plt.show()"
   ]
  },
  {
   "cell_type": "markdown",
   "metadata": {},
   "source": [
    "Area code 415 has a high churn rate, close to 50%, compared to 408 and 510. \n",
    "Our data does not give further information regarding this area codes that would explain the diffrence."
   ]
  },
  {
   "cell_type": "markdown",
   "metadata": {},
   "source": [
    "We now look at the relationship between state and churn"
   ]
  },
  {
   "cell_type": "code",
   "execution_count": 12,
   "metadata": {},
   "outputs": [
    {
     "data": {
      "image/png": "[encoded data removed]",
      "text/plain": [
       "<Figure size 1008x432 with 1 Axes>"
      ]
     },
     "metadata": {
      "needs_background": "light"
     },
     "output_type": "display_data"
    }
   ],
   "source": [
    "# Calculate the percentage of churned customers by state\n",
    "churn_percentages = (data[data['churn'] == True]['state'].value_counts() / data['state'].value_counts()) * 100\n",
    "\n",
    "# Sort the states by percentage in descending order\n",
    "churn_percentages = churn_percentages.sort_values(ascending=False)\n",
    "\n",
    "# Create a bar plot to show the percentage of churned customers by state\n",
    "plt.figure(figsize=(14, 6))  # Adjust the figure size as needed\n",
    "ax = sns.barplot(x=churn_percentages.index, y=churn_percentages.values, palette='Set1')\n",
    "\n",
    "# Set labels and title\n",
    "plt.xlabel('State')\n",
    "plt.ylabel('Percentage Churned (%)')\n",
    "plt.title('Percentage of Churned Customers by State')\n",
    "\n",
    "# Rotate x-axis labels for better readability\n",
    "plt.xticks(rotation=90)\n",
    "\n",
    "# Adjust layout\n",
    "plt.tight_layout()\n",
    "plt.show()\n"
   ]
  },
  {
   "cell_type": "markdown",
   "metadata": {},
   "source": [
    "The below plot narrows down to top 10 states with the highest churn rates"
   ]
  },
  {
   "cell_type": "code",
   "execution_count": 13,
   "metadata": {},
   "outputs": [
    {
     "data": {
      "image/png": "[encoded data removed]",
      "text/plain": [
       "<Figure size 1008x432 with 1 Axes>"
      ]
     },
     "metadata": {
      "needs_background": "light"
     },
     "output_type": "display_data"
    }
   ],
   "source": [
    "# Calculate the percentage of churned customers by state\n",
    "churn_percentages = (data[data['churn'] == True]['state'].value_counts() / data['state'].value_counts()) * 100\n",
    "\n",
    "# Sort the states by percentage in descending order\n",
    "churn_percentages = churn_percentages.sort_values(ascending=False)\n",
    "\n",
    "# Get the top 10 states with the highest churn percentages\n",
    "top_10_states = churn_percentages.head(10)\n",
    "\n",
    "# Create a bar plot to show the percentage of churned customers for the top 10 states\n",
    "plt.figure(figsize=(14, 6))  # Adjust the figure size as needed\n",
    "ax = sns.barplot(x=top_10_states.index, y=top_10_states.values, palette='Set1')\n",
    "\n",
    "# Set labels and title\n",
    "plt.xlabel('State')\n",
    "plt.ylabel('Percentage Churned (%)')\n",
    "plt.title('Top 10 States with Highest Churned Customers (Churn=True)')\n",
    "\n",
    "# Rotate x-axis labels for better readability\n",
    "plt.xticks(rotation=90)\n",
    "\n",
    "# Adjust layout\n",
    "plt.tight_layout()\n",
    "plt.show()"
   ]
  },
  {
   "cell_type": "markdown",
   "metadata": {},
   "source": [
    "The last 3 graphs indicate that there are area codes and states with high churn rates compared to others. Our data does not have any futher information regarding these states or area codes therefore we cannot do a further analysis on them.\n",
    "\n",
    "We will therefore drop state and area code from our dataset\n",
    "\n",
    "It's important for telecom companies to conduct region-specific research to understand and address the factors driving churn and retain customers effectively.\n",
    "\n",
    "Some of the possible reasons could be:\n",
    "\n",
    "* Demographic variations. States with younger populations may experience higher churn as younger customers switch providers more frequently.\n",
    "\n",
    "* Competition in the telecommunications industry varies by state, impacting churn rates. Highly competitive states may see more customer turnover due to better deals and offers.\n",
    "\n",
    "* Economic conditions within a state influence churn rates. In states with a stronger economy, customers may switch providers for better financial stability.\n",
    "\n",
    "* Provider reputation varies by state and can affect churn rates. States with negative provider experiences may have higher churn.\n",
    "\n",
    "* Service quality varies by state, with poorer quality leading to higher churn rates as customers seek better options.\n",
    "\n",
    "* Telecom providers' marketing campaigns and promotions can target specific regions. States with aggressive marketing may experience higher customer turnover due to these efforts.\n",
    "\n",
    "* State-level regulations and policies regarding telecommunications can influence churn rates. Consumer-friendly regulations may lead to lower churn.\n",
    "\n",
    "* Cultural factors and customer loyalty differ by region. Some states may have a culture of brand loyalty, reducing churn, while others may be more price-sensitive.\n",
    "\n",
    "* Population density, Densely populated states offer more options, leading to higher provider switching.\n",
    "\n",
    "* Technological advancements influence churn rates, as states with faster technology adoption may see higher customer turnover."
   ]
  },
  {
   "cell_type": "code",
   "execution_count": 14,
   "metadata": {},
   "outputs": [],
   "source": [
    "# Dropping 'area code' and 'state'\n",
    "data.drop(['area code', 'state'], axis=1, inplace=True)\n"
   ]
  },
  {
   "cell_type": "markdown",
   "metadata": {},
   "source": [
    "### Splitting of data to Numerical and categorical"
   ]
  },
  {
   "cell_type": "code",
   "execution_count": 15,
   "metadata": {},
   "outputs": [],
   "source": [
    "# Select categorical columns (object or category data types)\n",
    "cat_columns = data.select_dtypes(include=['object', 'bool'])\n",
    "\n",
    "# Select numeric columns (int or float data types)\n",
    "cont_columns = data.select_dtypes(include=['int64', 'float'])\n"
   ]
  },
  {
   "cell_type": "code",
   "execution_count": 16,
   "metadata": {},
   "outputs": [
    {
     "name": "stdout",
     "output_type": "stream",
     "text": [
      "<class 'pandas.core.frame.DataFrame'>\n",
      "RangeIndex: 3333 entries, 0 to 3332\n",
      "Data columns (total 3 columns):\n",
      " #   Column              Non-Null Count  Dtype \n",
      "---  ------              --------------  ----- \n",
      " 0   international plan  3333 non-null   object\n",
      " 1   voice mail plan     3333 non-null   object\n",
      " 2   churn               3333 non-null   bool  \n",
      "dtypes: bool(1), object(2)\n",
      "memory usage: 55.5+ KB\n"
     ]
    }
   ],
   "source": [
    "cat_columns.info()"
   ]
  },
  {
   "cell_type": "code",
   "execution_count": 17,
   "metadata": {},
   "outputs": [
    {
     "name": "stdout",
     "output_type": "stream",
     "text": [
      "<class 'pandas.core.frame.DataFrame'>\n",
      "RangeIndex: 3333 entries, 0 to 3332\n",
      "Data columns (total 15 columns):\n",
      " #   Column                  Non-Null Count  Dtype  \n",
      "---  ------                  --------------  -----  \n",
      " 0   account length          3333 non-null   int64  \n",
      " 1   number vmail messages   3333 non-null   int64  \n",
      " 2   total day minutes       3333 non-null   float64\n",
      " 3   total day calls         3333 non-null   int64  \n",
      " 4   total day charge        3333 non-null   float64\n",
      " 5   total eve minutes       3333 non-null   float64\n",
      " 6   total eve calls         3333 non-null   int64  \n",
      " 7   total eve charge        3333 non-null   float64\n",
      " 8   total night minutes     3333 non-null   float64\n",
      " 9   total night calls       3333 non-null   int64  \n",
      " 10  total night charge      3333 non-null   float64\n",
      " 11  total intl minutes      3333 non-null   float64\n",
      " 12  total intl calls        3333 non-null   int64  \n",
      " 13  total intl charge       3333 non-null   float64\n",
      " 14  customer service calls  3333 non-null   int64  \n",
      "dtypes: float64(8), int64(7)\n",
      "memory usage: 390.7 KB\n"
     ]
    }
   ],
   "source": [
    "cont_columns.info()"
   ]
  },
  {
   "cell_type": "markdown",
   "metadata": {},
   "source": [
    "### Categorical Feature Analysis"
   ]
  },
  {
   "cell_type": "markdown",
   "metadata": {},
   "source": [
    "* The 'churn' feature will serve as the target variable.It represents whether a customer has concluded their contract with SyriaTel. \n",
    "* On the 'churn' feature a value of 'True' signifies contract termination, while 'False' suggests that they have not terminated the contract and still maintain an active account."
   ]
  },
  {
   "cell_type": "code",
   "execution_count": 18,
   "metadata": {},
   "outputs": [
    {
     "data": {
      "image/png": "[encoded data removed]",
      "text/plain": [
       "<Figure size 1080x360 with 3 Axes>"
      ]
     },
     "metadata": {},
     "output_type": "display_data"
    }
   ],
   "source": [
    "# Create subplots for pie charts\n",
    "fig, axes = plt.subplots(1, 3, figsize=(15, 5))\n",
    "fig.suptitle('Pie Charts for Selected Categorical Variables', fontsize=16)\n",
    "\n",
    "# Plot pie charts for each selected categorical variable\n",
    "for i, col in enumerate(cat_columns):\n",
    "    ax = axes[i]\n",
    "    \n",
    "    # Calculate value counts and plot the pie chart\n",
    "    data[col].value_counts().plot.pie(explode=[0.05] * len(data[col].unique()), autopct='%1.1f%%', startangle=90, shadow=True, ax=ax)\n",
    "    ax.set_title(f'{col.capitalize()} Distribution')\n",
    "\n",
    "# Adjust layout and display\n",
    "plt.tight_layout(rect=[0, 0, 1, 0.85])\n",
    "plt.show()\n",
    "\n"
   ]
  },
  {
   "cell_type": "markdown",
   "metadata": {},
   "source": [
    "Out of the total 3,333 customers\n",
    "* 14.5% have left, while the remaining 85.5% have remained\n",
    "* 9.7% have an international plan\n",
    "* 27.7% have a voice mail plan\n",
    "\n",
    "The distribution of these binary classes reveals data imbalance, which should be addressed before modeling to prevent potential inaccuracies in model predictions"
   ]
  },
  {
   "cell_type": "markdown",
   "metadata": {},
   "source": [
    "### Numerical Feature Analysis"
   ]
  },
  {
   "cell_type": "markdown",
   "metadata": {},
   "source": [
    "#### Checking for Multicollinearity"
   ]
  },
  {
   "cell_type": "code",
   "execution_count": 19,
   "metadata": {},
   "outputs": [
    {
     "data": {
      "image/png": "[encoded data removed]",
      "text/plain": [
       "<Figure size 720x432 with 1 Axes>"
      ]
     },
     "metadata": {
      "needs_background": "light"
     },
     "output_type": "display_data"
    }
   ],
   "source": [
    "cat_columns = data.select_dtypes(include=['object', 'bool'])\n",
    "cont_columns = data.select_dtypes(include=['int64', 'float'])\n",
    "\n",
    "# Assuming 'data' is your DataFrame containing the continuous variables\n",
    "X = cont_columns\n",
    "\n",
    "# Add a constant term for the intercept\n",
    "X = sm.add_constant(X)\n",
    "\n",
    "# Calculate VIF for each variable\n",
    "vif = pd.DataFrame()\n",
    "vif[\"Variable\"] = X.columns\n",
    "vif[\"VIF\"] = [variance_inflation_factor(X.values, i) for i in range(X.shape[1])]\n",
    "\n",
    "# Sort the VIF values in descending order for the plot\n",
    "vif = vif.sort_values(by='VIF', ascending=False)\n",
    "\n",
    "# Create a bar chart to visualize VIF values using Seaborn\n",
    "plt.figure(figsize=(10, 6))\n",
    "sns.barplot(x='VIF', y='Variable', data=vif, palette='viridis')\n",
    "plt.xlabel('Variance Inflation Factor (VIF)')\n",
    "plt.title('VIF for Continuous Variables')\n",
    "plt.show()\n"
   ]
  },
  {
   "cell_type": "markdown",
   "metadata": {},
   "source": [
    "There are several variables related to call duration and charges, such as \"total day minutes,\" \"total day charge,\" \"total eve minutes,\" \"total eve charge,\" \"total night minutes,\" \"total night charge,\" \"total intl minutes,\" and \"total intl charge,\" all of which have exceptionally high VIF values. This suggests that there is significant multicollinearity among these call-related variables, which is not surprising given their inherent relationships."
   ]
  },
  {
   "cell_type": "markdown",
   "metadata": {},
   "source": [
    "#### Correlation matrix for numeric columns"
   ]
  },
  {
   "cell_type": "code",
   "execution_count": 20,
   "metadata": {},
   "outputs": [
    {
     "data": {
      "image/png": "[encoded data removed]",
      "text/plain": [
       "<Figure size 1080x864 with 2 Axes>"
      ]
     },
     "metadata": {
      "needs_background": "light"
     },
     "output_type": "display_data"
    }
   ],
   "source": [
    "cont_columns = data.select_dtypes(include=['int64', 'float'])\n",
    "corr_mat = cont_columns.corr()\n",
    "\n",
    "plt.figure(figsize=(15, 12))\n",
    "sns.heatmap(corr_mat, annot=True, cmap='Blues', square=True, fmt='.2f')\n",
    "plt.xticks(rotation=90)\n",
    "plt.yticks(rotation=0)\n",
    "plt.show()  # This line displays the heatmap and suppresses other text output\n",
    "\n"
   ]
  },
  {
   "cell_type": "markdown",
   "metadata": {},
   "source": [
    "* The majority of the features show no significant correlation, but there are instances of perfect correlation.\n",
    "\n",
    "    * Total day charge and total day minutes exhibit a complete positive correlation.\n",
    "    * Total eve charge and total eve minutes display a full positive correlation.\n",
    "    * Total night charge and total night minutes demonstrate a complete positive correlation.\n",
    "    * Total int charge and total int minutes also reveal a complete positive correlation.\n",
    "    \n",
    "* The existence of perfect correlation is logical in these cases because the charge is a direct consequence of the minutes used.\n",
    "\n",
    "* A perfect correlation of 1 signifies the presence of perfect multicollinearity, which affects nonlinear models differently than linear models. While some nonlinear models are impacted by perfect multicollinearity, others remain unaffected."
   ]
  },
  {
   "cell_type": "markdown",
   "metadata": {},
   "source": [
    "#### Distribution patterns for certain features"
   ]
  },
  {
   "cell_type": "code",
   "execution_count": 21,
   "metadata": {},
   "outputs": [
    {
     "name": "stderr",
     "output_type": "stream",
     "text": [
      "<ipython-input-21-6d3d626621a9>:13: UserWarning: This figure was using constrained_layout==True, but that is incompatible with subplots_adjust and or tight_layout: setting constrained_layout==False. \n",
      "  plt.tight_layout()\n"
     ]
    },
    {
     "data": {
      "image/png": "[encoded data removed]",
      "text/plain": [
       "<Figure size 1368x432 with 6 Axes>"
      ]
     },
     "metadata": {
      "needs_background": "light"
     },
     "output_type": "display_data"
    }
   ],
   "source": [
    "# Create a 2x3 grid of subplots\n",
    "f, ax = plt.subplots(2, 3, figsize=(19, 6), constrained_layout=True)\n",
    "\n",
    "# Plot histograms for each variable\n",
    "sns.histplot(data[\"account length\"], bins=20, ax=ax[0, 0])\n",
    "sns.histplot(data[\"total day calls\"], bins=20, ax=ax[0, 1])\n",
    "sns.histplot(data[\"total eve calls\"], bins=20, ax=ax[0, 2])\n",
    "sns.histplot(data[\"total night calls\"], bins=20, ax=ax[1, 0])\n",
    "sns.histplot(data[\"total intl calls\"], bins=20, ax=ax[1, 1])\n",
    "sns.histplot(data[\"customer service calls\"], bins=20, ax=ax[1, 2])\n",
    "\n",
    "# Adjust the spacing between the subplots\n",
    "plt.tight_layout()\n",
    "\n",
    "# Show the plot\n",
    "plt.show()\n"
   ]
  },
  {
   "cell_type": "markdown",
   "metadata": {},
   "source": [
    "* Most distribution plots follow a normal distribution pattern, while 'customer service calls' and 'Total international calls' are left-skewed.\n",
    "* 'Customer service calls' exhibits multiple peaks, indicating the presence of distinct groups within the population, likely due to its integer nature.\n",
    "* Majority of the users make 1 call to cuntomer service while a number make more than 4.\n"
   ]
  },
  {
   "cell_type": "code",
   "execution_count": 22,
   "metadata": {},
   "outputs": [
    {
     "data": {
      "image/png": "[encoded data removed]",
      "text/plain": [
       "<Figure size 576x432 with 1 Axes>"
      ]
     },
     "metadata": {
      "needs_background": "light"
     },
     "output_type": "display_data"
    }
   ],
   "source": [
    "# Create a violin plot to visualize the relationship\n",
    "plt.figure(figsize=(8, 6))\n",
    "sns.violinplot(x='churn', y='account length', data=data)\n",
    "plt.title('Relationship between Account Length and Churn')\n",
    "plt.xlabel('Churn')\n",
    "plt.ylabel('Account Length')\n",
    "plt.show()\n",
    "\n"
   ]
  },
  {
   "cell_type": "markdown",
   "metadata": {},
   "source": [
    "There is no significance between the account length makes on churning or not.\n",
    "Therefore we will drop account length from our dataset."
   ]
  },
  {
   "cell_type": "code",
   "execution_count": 23,
   "metadata": {},
   "outputs": [],
   "source": [
    "# Dropping 'area code' and 'state'\n",
    "data.drop(['account length'], axis=1, inplace=True)"
   ]
  },
  {
   "cell_type": "markdown",
   "metadata": {},
   "source": [
    "In summary we have dropped\n",
    "* phone number\n",
    "* area code\n",
    "* state\n",
    "* account length"
   ]
  },
  {
   "cell_type": "markdown",
   "metadata": {},
   "source": [
    "### Normalizing the continuous features"
   ]
  },
  {
   "cell_type": "code",
   "execution_count": 24,
   "metadata": {},
   "outputs": [],
   "source": [
    "# Continuous columns\n",
    "cont_columns = data.select_dtypes(include=['int64', 'float']).columns\n",
    "\n",
    "# Create an instance of the scaler\n",
    "scaler = StandardScaler()\n",
    "\n",
    "# Transform and scale the data\n",
    "data[cont_columns] = scaler.fit_transform(data[cont_columns])\n"
   ]
  },
  {
   "cell_type": "markdown",
   "metadata": {},
   "source": [
    "### Encoding Categorical Columns"
   ]
  },
  {
   "cell_type": "code",
   "execution_count": 25,
   "metadata": {},
   "outputs": [
    {
     "data": {
      "text/html": [
       "<div>\n",
       "<style scoped>\n",
       "    .dataframe tbody tr th:only-of-type {\n",
       "        vertical-align: middle;\n",
       "    }\n",
       "\n",
       "    .dataframe tbody tr th {\n",
       "        vertical-align: top;\n",
       "    }\n",
       "\n",
       "    .dataframe thead th {\n",
       "        text-align: right;\n",
       "    }\n",
       "</style>\n",
       "<table border=\"1\" class=\"dataframe\">\n",
       "  <thead>\n",
       "    <tr style=\"text-align: right;\">\n",
       "      <th></th>\n",
       "      <th>number vmail messages</th>\n",
       "      <th>total day minutes</th>\n",
       "      <th>total day calls</th>\n",
       "      <th>total day charge</th>\n",
       "      <th>total eve minutes</th>\n",
       "      <th>total eve calls</th>\n",
       "      <th>total eve charge</th>\n",
       "      <th>total night minutes</th>\n",
       "      <th>total night calls</th>\n",
       "      <th>total night charge</th>\n",
       "      <th>total intl minutes</th>\n",
       "      <th>total intl calls</th>\n",
       "      <th>total intl charge</th>\n",
       "      <th>customer service calls</th>\n",
       "      <th>international plan_yes</th>\n",
       "      <th>voice mail plan_yes</th>\n",
       "      <th>churn_True</th>\n",
       "    </tr>\n",
       "  </thead>\n",
       "  <tbody>\n",
       "    <tr>\n",
       "      <th>0</th>\n",
       "      <td>1.234883</td>\n",
       "      <td>1.566767</td>\n",
       "      <td>0.476643</td>\n",
       "      <td>1.567036</td>\n",
       "      <td>-0.070610</td>\n",
       "      <td>-0.055940</td>\n",
       "      <td>-0.070427</td>\n",
       "      <td>0.866743</td>\n",
       "      <td>-0.465494</td>\n",
       "      <td>0.866029</td>\n",
       "      <td>-0.085008</td>\n",
       "      <td>-0.601195</td>\n",
       "      <td>-0.085690</td>\n",
       "      <td>-0.427932</td>\n",
       "      <td>0</td>\n",
       "      <td>1</td>\n",
       "      <td>0</td>\n",
       "    </tr>\n",
       "    <tr>\n",
       "      <th>1</th>\n",
       "      <td>1.307948</td>\n",
       "      <td>-0.333738</td>\n",
       "      <td>1.124503</td>\n",
       "      <td>-0.334013</td>\n",
       "      <td>-0.108080</td>\n",
       "      <td>0.144867</td>\n",
       "      <td>-0.107549</td>\n",
       "      <td>1.058571</td>\n",
       "      <td>0.147825</td>\n",
       "      <td>1.059390</td>\n",
       "      <td>1.240482</td>\n",
       "      <td>-0.601195</td>\n",
       "      <td>1.241169</td>\n",
       "      <td>-0.427932</td>\n",
       "      <td>0</td>\n",
       "      <td>1</td>\n",
       "      <td>0</td>\n",
       "    </tr>\n",
       "    <tr>\n",
       "      <th>2</th>\n",
       "      <td>-0.591760</td>\n",
       "      <td>1.168304</td>\n",
       "      <td>0.675985</td>\n",
       "      <td>1.168464</td>\n",
       "      <td>-1.573383</td>\n",
       "      <td>0.496279</td>\n",
       "      <td>-1.573900</td>\n",
       "      <td>-0.756869</td>\n",
       "      <td>0.198935</td>\n",
       "      <td>-0.755571</td>\n",
       "      <td>0.703121</td>\n",
       "      <td>0.211534</td>\n",
       "      <td>0.697156</td>\n",
       "      <td>-1.188218</td>\n",
       "      <td>0</td>\n",
       "      <td>0</td>\n",
       "      <td>0</td>\n",
       "    </tr>\n",
       "    <tr>\n",
       "      <th>3</th>\n",
       "      <td>-0.591760</td>\n",
       "      <td>2.196596</td>\n",
       "      <td>-1.466936</td>\n",
       "      <td>2.196759</td>\n",
       "      <td>-2.742865</td>\n",
       "      <td>-0.608159</td>\n",
       "      <td>-2.743268</td>\n",
       "      <td>-0.078551</td>\n",
       "      <td>-0.567714</td>\n",
       "      <td>-0.078806</td>\n",
       "      <td>-1.303026</td>\n",
       "      <td>1.024263</td>\n",
       "      <td>-1.306401</td>\n",
       "      <td>0.332354</td>\n",
       "      <td>1</td>\n",
       "      <td>0</td>\n",
       "      <td>0</td>\n",
       "    </tr>\n",
       "    <tr>\n",
       "      <th>4</th>\n",
       "      <td>-0.591760</td>\n",
       "      <td>-0.240090</td>\n",
       "      <td>0.626149</td>\n",
       "      <td>-0.240041</td>\n",
       "      <td>-1.038932</td>\n",
       "      <td>1.098699</td>\n",
       "      <td>-1.037939</td>\n",
       "      <td>-0.276311</td>\n",
       "      <td>1.067803</td>\n",
       "      <td>-0.276562</td>\n",
       "      <td>-0.049184</td>\n",
       "      <td>-0.601195</td>\n",
       "      <td>-0.045885</td>\n",
       "      <td>1.092641</td>\n",
       "      <td>1</td>\n",
       "      <td>0</td>\n",
       "      <td>0</td>\n",
       "    </tr>\n",
       "  </tbody>\n",
       "</table>\n",
       "</div>"
      ],
      "text/plain": [
       "   number vmail messages  total day minutes  total day calls  \\\n",
       "0               1.234883           1.566767         0.476643   \n",
       "1               1.307948          -0.333738         1.124503   \n",
       "2              -0.591760           1.168304         0.675985   \n",
       "3              -0.591760           2.196596        -1.466936   \n",
       "4              -0.591760          -0.240090         0.626149   \n",
       "\n",
       "   total day charge  total eve minutes  total eve calls  total eve charge  \\\n",
       "0          1.567036          -0.070610        -0.055940         -0.070427   \n",
       "1         -0.334013          -0.108080         0.144867         -0.107549   \n",
       "2          1.168464          -1.573383         0.496279         -1.573900   \n",
       "3          2.196759          -2.742865        -0.608159         -2.743268   \n",
       "4         -0.240041          -1.038932         1.098699         -1.037939   \n",
       "\n",
       "   total night minutes  total night calls  total night charge  \\\n",
       "0             0.866743          -0.465494            0.866029   \n",
       "1             1.058571           0.147825            1.059390   \n",
       "2            -0.756869           0.198935           -0.755571   \n",
       "3            -0.078551          -0.567714           -0.078806   \n",
       "4            -0.276311           1.067803           -0.276562   \n",
       "\n",
       "   total intl minutes  total intl calls  total intl charge  \\\n",
       "0           -0.085008         -0.601195          -0.085690   \n",
       "1            1.240482         -0.601195           1.241169   \n",
       "2            0.703121          0.211534           0.697156   \n",
       "3           -1.303026          1.024263          -1.306401   \n",
       "4           -0.049184         -0.601195          -0.045885   \n",
       "\n",
       "   customer service calls  international plan_yes  voice mail plan_yes  \\\n",
       "0               -0.427932                       0                    1   \n",
       "1               -0.427932                       0                    1   \n",
       "2               -1.188218                       0                    0   \n",
       "3                0.332354                       1                    0   \n",
       "4                1.092641                       1                    0   \n",
       "\n",
       "   churn_True  \n",
       "0           0  \n",
       "1           0  \n",
       "2           0  \n",
       "3           0  \n",
       "4           0  "
      ]
     },
     "execution_count": 25,
     "metadata": {},
     "output_type": "execute_result"
    }
   ],
   "source": [
    "# Categorical columns\n",
    "cat_columns = data.select_dtypes(include=['object', 'bool']).columns\n",
    "\n",
    "# Use get_dummies to one-hot encode and drop the first category\n",
    "data = pd.get_dummies(data, columns=cat_columns, drop_first=True)\n",
    "\n",
    "# Display the first few rows of the DataFrame\n",
    "data.head()"
   ]
  },
  {
   "cell_type": "markdown",
   "metadata": {},
   "source": [
    "# Data Modeling"
   ]
  },
  {
   "cell_type": "code",
   "execution_count": 26,
   "metadata": {},
   "outputs": [
    {
     "data": {
      "text/html": [
       "<div>\n",
       "<style scoped>\n",
       "    .dataframe tbody tr th:only-of-type {\n",
       "        vertical-align: middle;\n",
       "    }\n",
       "\n",
       "    .dataframe tbody tr th {\n",
       "        vertical-align: top;\n",
       "    }\n",
       "\n",
       "    .dataframe thead th {\n",
       "        text-align: right;\n",
       "    }\n",
       "</style>\n",
       "<table border=\"1\" class=\"dataframe\">\n",
       "  <thead>\n",
       "    <tr style=\"text-align: right;\">\n",
       "      <th></th>\n",
       "      <th>number vmail messages</th>\n",
       "      <th>total day minutes</th>\n",
       "      <th>total day calls</th>\n",
       "      <th>total day charge</th>\n",
       "      <th>total eve minutes</th>\n",
       "      <th>total eve calls</th>\n",
       "      <th>total eve charge</th>\n",
       "      <th>total night minutes</th>\n",
       "      <th>total night calls</th>\n",
       "      <th>total night charge</th>\n",
       "      <th>total intl minutes</th>\n",
       "      <th>total intl calls</th>\n",
       "      <th>total intl charge</th>\n",
       "      <th>customer service calls</th>\n",
       "      <th>international plan_yes</th>\n",
       "      <th>voice mail plan_yes</th>\n",
       "    </tr>\n",
       "  </thead>\n",
       "  <tbody>\n",
       "    <tr>\n",
       "      <th>0</th>\n",
       "      <td>1.234883</td>\n",
       "      <td>1.566767</td>\n",
       "      <td>0.476643</td>\n",
       "      <td>1.567036</td>\n",
       "      <td>-0.070610</td>\n",
       "      <td>-0.055940</td>\n",
       "      <td>-0.070427</td>\n",
       "      <td>0.866743</td>\n",
       "      <td>-0.465494</td>\n",
       "      <td>0.866029</td>\n",
       "      <td>-0.085008</td>\n",
       "      <td>-0.601195</td>\n",
       "      <td>-0.085690</td>\n",
       "      <td>-0.427932</td>\n",
       "      <td>0</td>\n",
       "      <td>1</td>\n",
       "    </tr>\n",
       "    <tr>\n",
       "      <th>1</th>\n",
       "      <td>1.307948</td>\n",
       "      <td>-0.333738</td>\n",
       "      <td>1.124503</td>\n",
       "      <td>-0.334013</td>\n",
       "      <td>-0.108080</td>\n",
       "      <td>0.144867</td>\n",
       "      <td>-0.107549</td>\n",
       "      <td>1.058571</td>\n",
       "      <td>0.147825</td>\n",
       "      <td>1.059390</td>\n",
       "      <td>1.240482</td>\n",
       "      <td>-0.601195</td>\n",
       "      <td>1.241169</td>\n",
       "      <td>-0.427932</td>\n",
       "      <td>0</td>\n",
       "      <td>1</td>\n",
       "    </tr>\n",
       "    <tr>\n",
       "      <th>2</th>\n",
       "      <td>-0.591760</td>\n",
       "      <td>1.168304</td>\n",
       "      <td>0.675985</td>\n",
       "      <td>1.168464</td>\n",
       "      <td>-1.573383</td>\n",
       "      <td>0.496279</td>\n",
       "      <td>-1.573900</td>\n",
       "      <td>-0.756869</td>\n",
       "      <td>0.198935</td>\n",
       "      <td>-0.755571</td>\n",
       "      <td>0.703121</td>\n",
       "      <td>0.211534</td>\n",
       "      <td>0.697156</td>\n",
       "      <td>-1.188218</td>\n",
       "      <td>0</td>\n",
       "      <td>0</td>\n",
       "    </tr>\n",
       "    <tr>\n",
       "      <th>3</th>\n",
       "      <td>-0.591760</td>\n",
       "      <td>2.196596</td>\n",
       "      <td>-1.466936</td>\n",
       "      <td>2.196759</td>\n",
       "      <td>-2.742865</td>\n",
       "      <td>-0.608159</td>\n",
       "      <td>-2.743268</td>\n",
       "      <td>-0.078551</td>\n",
       "      <td>-0.567714</td>\n",
       "      <td>-0.078806</td>\n",
       "      <td>-1.303026</td>\n",
       "      <td>1.024263</td>\n",
       "      <td>-1.306401</td>\n",
       "      <td>0.332354</td>\n",
       "      <td>1</td>\n",
       "      <td>0</td>\n",
       "    </tr>\n",
       "    <tr>\n",
       "      <th>4</th>\n",
       "      <td>-0.591760</td>\n",
       "      <td>-0.240090</td>\n",
       "      <td>0.626149</td>\n",
       "      <td>-0.240041</td>\n",
       "      <td>-1.038932</td>\n",
       "      <td>1.098699</td>\n",
       "      <td>-1.037939</td>\n",
       "      <td>-0.276311</td>\n",
       "      <td>1.067803</td>\n",
       "      <td>-0.276562</td>\n",
       "      <td>-0.049184</td>\n",
       "      <td>-0.601195</td>\n",
       "      <td>-0.045885</td>\n",
       "      <td>1.092641</td>\n",
       "      <td>1</td>\n",
       "      <td>0</td>\n",
       "    </tr>\n",
       "  </tbody>\n",
       "</table>\n",
       "</div>"
      ],
      "text/plain": [
       "   number vmail messages  total day minutes  total day calls  \\\n",
       "0               1.234883           1.566767         0.476643   \n",
       "1               1.307948          -0.333738         1.124503   \n",
       "2              -0.591760           1.168304         0.675985   \n",
       "3              -0.591760           2.196596        -1.466936   \n",
       "4              -0.591760          -0.240090         0.626149   \n",
       "\n",
       "   total day charge  total eve minutes  total eve calls  total eve charge  \\\n",
       "0          1.567036          -0.070610        -0.055940         -0.070427   \n",
       "1         -0.334013          -0.108080         0.144867         -0.107549   \n",
       "2          1.168464          -1.573383         0.496279         -1.573900   \n",
       "3          2.196759          -2.742865        -0.608159         -2.743268   \n",
       "4         -0.240041          -1.038932         1.098699         -1.037939   \n",
       "\n",
       "   total night minutes  total night calls  total night charge  \\\n",
       "0             0.866743          -0.465494            0.866029   \n",
       "1             1.058571           0.147825            1.059390   \n",
       "2            -0.756869           0.198935           -0.755571   \n",
       "3            -0.078551          -0.567714           -0.078806   \n",
       "4            -0.276311           1.067803           -0.276562   \n",
       "\n",
       "   total intl minutes  total intl calls  total intl charge  \\\n",
       "0           -0.085008         -0.601195          -0.085690   \n",
       "1            1.240482         -0.601195           1.241169   \n",
       "2            0.703121          0.211534           0.697156   \n",
       "3           -1.303026          1.024263          -1.306401   \n",
       "4           -0.049184         -0.601195          -0.045885   \n",
       "\n",
       "   customer service calls  international plan_yes  voice mail plan_yes  \n",
       "0               -0.427932                       0                    1  \n",
       "1               -0.427932                       0                    1  \n",
       "2               -1.188218                       0                    0  \n",
       "3                0.332354                       1                    0  \n",
       "4                1.092641                       1                    0  "
      ]
     },
     "execution_count": 26,
     "metadata": {},
     "output_type": "execute_result"
    }
   ],
   "source": [
    "# predators\n",
    "X = data.drop('churn_True', axis=1)\n",
    "\n",
    "# target\n",
    "y = data['churn_True']\n",
    "\n",
    "X.head()"
   ]
  },
  {
   "cell_type": "markdown",
   "metadata": {},
   "source": [
    "## Train-Test Split"
   ]
  },
  {
   "cell_type": "code",
   "execution_count": 27,
   "metadata": {},
   "outputs": [],
   "source": [
    "X_train, X_test, y_train, y_test = train_test_split(X, y, test_size=0.25, random_state=123)"
   ]
  },
  {
   "cell_type": "markdown",
   "metadata": {},
   "source": [
    "## 1. Fitting, Prediction and Evaluation using a Logistic Regression"
   ]
  },
  {
   "cell_type": "code",
   "execution_count": 28,
   "metadata": {},
   "outputs": [
    {
     "data": {
      "text/plain": [
       "LogisticRegression()"
      ]
     },
     "execution_count": 28,
     "metadata": {},
     "output_type": "execute_result"
    }
   ],
   "source": [
    "# Create an instance of Logistic Regression Model\n",
    "logreg = LogisticRegression()\n",
    "\n",
    "# Fit the logistic regression model to the training data\n",
    "logreg.fit(X_train, y_train)"
   ]
  },
  {
   "cell_type": "code",
   "execution_count": 29,
   "metadata": {},
   "outputs": [],
   "source": [
    "# Once the model is fitted, we use it to make predictions on new data\n",
    "y_train_pred = logreg.predict(X_train)\n",
    "y_test_pred = logreg.predict(X_test)"
   ]
  },
  {
   "cell_type": "code",
   "execution_count": 30,
   "metadata": {},
   "outputs": [
    {
     "name": "stdout",
     "output_type": "stream",
     "text": [
      "Logistic Regression Results:\n",
      "\n",
      "Training Set Metrics:\n",
      "Precision: 0.576\n",
      "Accuracy: 0.859\n",
      "F1 Score: 0.302\n",
      "Recall: 0.204\n",
      "\n",
      "Test Set Metrics:\n",
      "Precision: 0.543\n",
      "Accuracy: 0.872\n",
      "F1 Score: 0.318\n",
      "Recall: 0.225\n"
     ]
    }
   ],
   "source": [
    "# Calculate the evaluation metrics for training set predictions\n",
    "train_precision = round(precision_score(y_train, y_train_pred), 3)\n",
    "train_accuracy = round(accuracy_score(y_train, y_train_pred), 3)\n",
    "train_f1 = round(f1_score(y_train, y_train_pred), 3)\n",
    "train_recall = round(recall_score(y_train, y_train_pred), 3)\n",
    "\n",
    "# Calculate the evaluation metrics for test set predictions\n",
    "test_precision = round(precision_score(y_test, y_test_pred), 3)\n",
    "test_accuracy = round(accuracy_score(y_test, y_test_pred), 3)\n",
    "test_f1 = round(f1_score(y_test, y_test_pred), 3)\n",
    "test_recall = round(recall_score(y_test, y_test_pred), 3)\n",
    "\n",
    "# Print the evaluation metrics for training set predictions\n",
    "print(\"Logistic Regression Results:\")\n",
    "\n",
    "# Print an empty line\n",
    "print()\n",
    "\n",
    "print(\"Training Set Metrics:\")\n",
    "print(\"Precision:\", train_precision)\n",
    "print(\"Accuracy:\", train_accuracy)\n",
    "print(\"F1 Score:\", train_f1)\n",
    "print(\"Recall:\", train_recall)\n",
    "\n",
    "# Print an empty line\n",
    "print()\n",
    "\n",
    "# Print the evaluation metrics for test set predictions\n",
    "print(\"Test Set Metrics:\")\n",
    "print(\"Precision:\", test_precision)\n",
    "print(\"Accuracy:\", test_accuracy)\n",
    "print(\"F1 Score:\", test_f1)\n",
    "print(\"Recall:\", test_recall)\n"
   ]
  },
  {
   "cell_type": "markdown",
   "metadata": {},
   "source": [
    "* Training Set Metrics:\n",
    "\n",
    "    * Precision: This model's precision on the training set is 0.576. This means that when this model predicts a positive outcome, it's correct 57.6% of the time, which is quite decent.\n",
    "\n",
    "    * Accuracy: The training set accuracy is 0.859, indicating that, based on the training data, this model's overall predictions are accurate almost 86% of the time.\n",
    "\n",
    "    * F1 Score: The F1 score on the training set is 0.302. This metric takes both precision and recall into account and provides a balanced view. While it's not exceptionally high, it suggests that this model does reasonably well in balancing accuracy and capturing positive cases.\n",
    "\n",
    "    * Recall: The training set recall is 0.204. This shows that this model is identifying about 20.4% of the actual positive cases in the training data.\n",
    "\n",
    "\n",
    "* Test Set Metrics:\n",
    "\n",
    "    * Precision: On the test set, this model achieves a precision of 0.543. This means that when it predicts a positive outcome, it's correct around 54.3% of the time, which is quite decent.\n",
    "\n",
    "    * Accuracy: The test set accuracy is 0.872, indicating that, based on the test data, this model's predictions are accurate approximately 87.2% of the time.\n",
    "\n",
    "    * F1 Score: The F1 score on the test set is 0.318, suggesting a balanced performance in terms of precision and recall. It's slightly higher than in the training set, indicating good generalization.\n",
    "\n",
    "    * Recall: The test set recall is 0.225, meaning this model captures about 22.5% of the actual positive cases in the test data.\n",
    "\n",
    "\n",
    "* These results reveal that this model performs well on the test set, with strong accuracy and precision. While the F1 score and recall are not extremely high, they still suggest a reasonable ability to balance precision and recall in a real-world context.\n"
   ]
  },
  {
   "cell_type": "markdown",
   "metadata": {},
   "source": [
    "## 2. Fitting, Prediction and Evaluation using a Decision Tree Classifier"
   ]
  },
  {
   "cell_type": "code",
   "execution_count": 31,
   "metadata": {},
   "outputs": [
    {
     "name": "stdout",
     "output_type": "stream",
     "text": [
      "Training Set Metrics:\n",
      "Precision: 1.0\n",
      "Accuracy: 1.0\n",
      "F1 Score: 1.0\n",
      "Recall: 1.0\n",
      "\n",
      "Test Set Metrics:\n",
      "Precision: 0.699\n",
      "Accuracy: 0.926\n",
      "F1 Score: 0.735\n",
      "Recall: 0.775\n"
     ]
    }
   ],
   "source": [
    "# Create an instance of the DecisionTreeClassifier\n",
    "dtc = DecisionTreeClassifier(random_state=42)\n",
    "\n",
    "# Fit the model to the training data\n",
    "dtc.fit(X_train, y_train)\n",
    "\n",
    "# Make predictions on the training and test sets\n",
    "y_train_pred = dtc.predict(X_train)\n",
    "y_test_pred = dtc.predict(X_test)\n",
    "\n",
    "# Calculate the evaluation metrics\n",
    "train_precision = round(precision_score(y_train, y_train_pred), 3)\n",
    "train_accuracy = round(accuracy_score(y_train, y_train_pred), 3)\n",
    "train_f1_score = round(f1_score(y_train, y_train_pred), 3)\n",
    "train_recall = round(recall_score(y_train, y_train_pred), 3)\n",
    "\n",
    "test_precision = round(precision_score(y_test, y_test_pred), 3)\n",
    "test_accuracy = round(accuracy_score(y_test, y_test_pred), 3)\n",
    "test_f1_score = round(f1_score(y_test, y_test_pred), 3)\n",
    "test_recall = round(recall_score(y_test, y_test_pred), 3)\n",
    "\n",
    "# Print the evaluation metrics for the training set\n",
    "print(\"Training Set Metrics:\")\n",
    "print(\"Precision:\", train_precision)\n",
    "print(\"Accuracy:\", train_accuracy)\n",
    "print(\"F1 Score:\", train_f1_score)\n",
    "print(\"Recall:\", train_recall)\n",
    "print()\n",
    "\n",
    "# Print the evaluation metrics for the test set\n",
    "print(\"Test Set Metrics:\")\n",
    "print(\"Precision:\", test_precision)\n",
    "print(\"Accuracy:\", test_accuracy)\n",
    "print(\"F1 Score:\", test_f1_score)\n",
    "print(\"Recall:\", test_recall)\n"
   ]
  },
  {
   "cell_type": "markdown",
   "metadata": {},
   "source": [
    "* Training Set Metrics:\n",
    "\n",
    "    * Precision: In the training set, the model achieves perfect precision of 1.0, indicating that all positive predictions are accurate.\n",
    "\n",
    "    * Accuracy: The training accuracy is also perfect at 1.0, meaning the model's predictions match the actual outcomes flawlessly.\n",
    "\n",
    "    * F1 Score: The F1 score on the training set is 1.0, which is exceptional and suggests a perfect balance between precision and recall.\n",
    "\n",
    "    * Recall: In the training set, the model captures all positive cases, achieving a perfect recall of 1.0.\n",
    "    \n",
    "\n",
    "* Test Set Metrics:\n",
    "\n",
    "    * Precision: On the test set, the model's precision is 0.699, indicating that about 69.9% of its positive predictions are correct.\n",
    "\n",
    "    * Accuracy: The test accuracy is high at 0.926, indicating that the model's predictions are accurate around 92.6% of the time.\n",
    "\n",
    "    * F1 Score: The F1 score on the test set is 0.735, suggesting a good balance between precision and recall.\n",
    "\n",
    "    * Recall: In the test set, the model captures 77.5% of the actual positive cases, showing strong performance.\n",
    "    \n",
    "\n",
    "* In summary, the model performs perfectly on the training set, but there is some drop in precision on the test set. However, it still maintains high accuracy, a good F1 score, and a strong recall, indicating effective generalization to new data."
   ]
  },
  {
   "cell_type": "markdown",
   "metadata": {},
   "source": [
    "> The Decision Tree Classifier model demonstrates superior performance compared to the Logistic Regression model across all metrics, suggesting that it serves as a more effective classifier for our dataset. It is highly probable that further tuning of the Decision Tree model would enhance its performance even further."
   ]
  },
  {
   "cell_type": "markdown",
   "metadata": {},
   "source": [
    "#### Dealing with Class inbalance Decision Tree Model"
   ]
  },
  {
   "cell_type": "code",
   "execution_count": 32,
   "metadata": {},
   "outputs": [],
   "source": [
    "# Apply SMOTE to the training data\n",
    "smote = SMOTE(random_state=42)\n",
    "X_train_resampled, y_train_resampled = smote.fit_resample(X_train, y_train)"
   ]
  },
  {
   "cell_type": "markdown",
   "metadata": {},
   "source": [
    "#### Fitting the model with the resampled data"
   ]
  },
  {
   "cell_type": "code",
   "execution_count": 33,
   "metadata": {},
   "outputs": [
    {
     "name": "stdout",
     "output_type": "stream",
     "text": [
      "\n",
      "Test Set Metrics:\n",
      "Precision: 0.566\n",
      "Accuracy: 0.891\n",
      "F1 Score: 0.654\n",
      "Recall: 0.775\n"
     ]
    }
   ],
   "source": [
    "# Create a Decision Tree Classifier\n",
    "dt1_classifier = DecisionTreeClassifier()\n",
    "\n",
    "# Fit the model on the resampled training data\n",
    "dt1_classifier.fit(X_train_resampled, y_train_resampled)\n",
    "\n",
    "# Make predictions on the test data\n",
    "y_test_pred = dt1_classifier.predict(X_test)\n",
    "\n",
    "test_precision = round(precision_score(y_test, y_test_pred), 3)\n",
    "test_accuracy = round(accuracy_score(y_test, y_test_pred), 3)\n",
    "test_f1 = round(f1_score(y_test, y_test_pred), 3)\n",
    "test_recall = round(recall_score(y_test, y_test_pred), 3)\n",
    "\n",
    "print(\"\\nTest Set Metrics:\")\n",
    "print(\"Precision:\", test_precision)\n",
    "print(\"Accuracy:\", test_accuracy)\n",
    "print(\"F1 Score:\", test_f1)\n",
    "print(\"Recall:\", test_recall)"
   ]
  },
  {
   "cell_type": "markdown",
   "metadata": {},
   "source": [
    "> Dealing with class imbalance using SMOTE reduced metric scores, however the model can make more accurate predictions for the minority class which is the class of clients who churn.This is key for this analysis since being able to predict clients who will most likely churn can call for certain targeted strategies to retain them."
   ]
  },
  {
   "cell_type": "markdown",
   "metadata": {},
   "source": [
    "#### Hyper-parameter Tuning using GridSearchCV"
   ]
  },
  {
   "cell_type": "code",
   "execution_count": 34,
   "metadata": {},
   "outputs": [
    {
     "name": "stdout",
     "output_type": "stream",
     "text": [
      "Best Parameters:\n",
      "criterion: gini\n",
      "max_depth: 10\n",
      "min_samples_leaf: 1\n",
      "min_samples_split: 2\n",
      "Best F1 Score: 0.896\n"
     ]
    }
   ],
   "source": [
    "# Define the model\n",
    "dt2_classifier = DecisionTreeClassifier()\n",
    "\n",
    "# Define the parameter grid to search through\n",
    "param_grid = {\n",
    "    'criterion': ['gini', 'entropy'],\n",
    "    'max_depth': [2, 4, 6, 8, 10],\n",
    "    'min_samples_split': [2, 4, 6, 8, 10],\n",
    "    'min_samples_leaf': [1, 2, 3, 4, 5]\n",
    "}\n",
    "\n",
    "# Create a grid search object using 5-fold cross-validation and F1 score as the scoring metric\n",
    "grid_search = GridSearchCV(estimator=dt2_classifier, param_grid=param_grid, cv=5, scoring='f1')\n",
    "\n",
    "# Fit the grid search to the resampled training data\n",
    "grid_search.fit(X_train_resampled, y_train_resampled)\n",
    "\n",
    "# Get the best parameters from the grid search\n",
    "best_params = grid_search.best_params_\n",
    "best_f1_score = round(grid_search.best_score_, 3)\n",
    "\n",
    "# Print the best parameters\n",
    "print(\"Best Parameters:\")\n",
    "for key, value in best_params.items():\n",
    "    print(f\"{key}: {value}\")\n",
    "\n",
    "# Print the best F1 score\n",
    "print(\"Best F1 Score:\", best_f1_score)\n"
   ]
  },
  {
   "cell_type": "markdown",
   "metadata": {},
   "source": [
    ">Criterion: 'gini' - is chosen for its effectiveness in measuring impurity.\n",
    "Max Depth: 10 - allowing for deeper and more complex decision trees.\n",
    "Min Samples Leaf: 1 - enabling the creation of leaf nodes with just one data point for fine-grained pattern capture.\n",
    "Min Samples Split: 2 - ensuring that internal nodes split if they contain at least 2 data points to avoid overfitting.\n",
    "The resulting model achieves a high F1 score of 0.897, signifying its effectiveness in maintaining a balance between precision and recall, capturing meaningful patterns, and minimizing false positives."
   ]
  },
  {
   "cell_type": "code",
   "execution_count": 35,
   "metadata": {},
   "outputs": [
    {
     "name": "stdout",
     "output_type": "stream",
     "text": [
      "Metrics for Decision Tree Classifier (Tuned)\n",
      "Precision Score : 0.763\n",
      "Accuracy Score : 0.939\n",
      "F1 Score : 0.773\n",
      "Recall Score : 0.784\n"
     ]
    }
   ],
   "source": [
    "# Defining the model with optimal hyperparameters\n",
    "dt2_tuned = DecisionTreeClassifier(criterion='entropy', \n",
    "                                   max_depth=10,\n",
    "                                   min_samples_leaf=2,\n",
    "                                   min_samples_split=4)\n",
    "\n",
    "# Fitting the model\n",
    "dt2_tuned.fit(X_train_resampled, y_train_resampled)\n",
    "\n",
    "# Making predictions on the test data\n",
    "dt2_y_pred = dt2_tuned.predict(X_test)\n",
    "\n",
    "# Evaluating the model\n",
    "dt2_f1_score = f1_score(y_test, dt2_y_pred)\n",
    "dt2_acc_score = accuracy_score(y_test, dt2_y_pred)\n",
    "dt2_prec_score = precision_score(y_test, dt2_y_pred)\n",
    "dt2_rec_score = recall_score(y_test, dt2_y_pred)\n",
    "\n",
    "# Printing the results\n",
    "print(\"Metrics for Decision Tree Classifier (Tuned)\")\n",
    "print(f\"Precision Score : {dt2_prec_score:.3f}\")\n",
    "print(f\"Accuracy Score : {dt2_acc_score:.3f}\")\n",
    "print(f\"F1 Score : {dt2_f1_score:.3f}\")\n",
    "print(f\"Recall Score : {dt2_rec_score:.3f}\")"
   ]
  },
  {
   "cell_type": "markdown",
   "metadata": {},
   "source": [
    "* Metrics for Decision Tree Classifier After resampling before tuning\n",
    "\n",
    "    * Precision: 0.559\n",
    "    * Accuracy: 0.888\n",
    "    * F1 Score: 0.646\n",
    "    * Recall: 0.766\n",
    "\n",
    "\n",
    "* Metrics for Decision Tree Classifier (Tuned)\n",
    "\n",
    "    * Precision Score : 0.798\n",
    "    * Accuracy Score : 0.948\n",
    "    * F1 Score : 0.809\n",
    "    * Recall Score : 0.820\n",
    "\n",
    "In summary, the \"Tuned (Decision Tree Classifier)\" shows significant improvements in precision (79.8% vs. 55.9%), accuracy (94.8% vs. 88.8%), and the balance between precision and recall (F1 Score of 80.9% vs. 64.6%) compared to Results 1. It is more effective in making accurate predictions on the test data."
   ]
  },
  {
   "cell_type": "markdown",
   "metadata": {},
   "source": [
    "#### Tree Based Feature Selection"
   ]
  },
  {
   "cell_type": "code",
   "execution_count": 36,
   "metadata": {},
   "outputs": [],
   "source": [
    "from sklearn.feature_selection import SelectFromModel\n",
    "\n",
    "# Train a decision tree classifier\n",
    "dt3 = DecisionTreeClassifier(criterion='entropy', \n",
    "                             max_depth=10,\n",
    "                             min_samples_leaf=1,\n",
    "                             min_samples_split=2)\n",
    "dt3.fit(X_train_resampled, y_train_resampled)\n",
    "\n",
    "# Select features based on feature importances\n",
    "selector = SelectFromModel(dt3, prefit=True, threshold='median')\n",
    "X_train_new = selector.transform(X_train_resampled)\n",
    "X_test_new = selector.transform(X_test)"
   ]
  },
  {
   "cell_type": "markdown",
   "metadata": {},
   "source": [
    "#### Fitting a Decision Tree Model with Selected Features"
   ]
  },
  {
   "cell_type": "code",
   "execution_count": 37,
   "metadata": {},
   "outputs": [
    {
     "name": "stdout",
     "output_type": "stream",
     "text": [
      "Selected Features Metrics:\n",
      "Precision Score: 0.689\n",
      "Accuracy Score: 0.927\n",
      "F1 Score: 0.749\n",
      "Recall Score: 0.82\n"
     ]
    }
   ],
   "source": [
    "# Training a Decision Tree classifier with selected features\n",
    "dt4 = DecisionTreeClassifier(criterion='entropy',\n",
    "                             max_depth=10,\n",
    "                             min_samples_leaf=1,\n",
    "                             min_samples_split=2)\n",
    "\n",
    "# Fitting the classifier with the new selected features (X_new)\n",
    "dt4.fit(X_train_new, y_train_resampled)\n",
    "\n",
    "# Making predictions of the test data\n",
    "dt4_y_pred = dt4.predict(X_test_new)\n",
    "\n",
    "# Calculating evaluation metrics\n",
    "dt4_f1_score = f1_score(y_test, dt4_y_pred)\n",
    "dt4_acc_score = accuracy_score(y_test, dt4_y_pred)\n",
    "dt4_prec_score = precision_score(y_test, dt4_y_pred)\n",
    "dt4_rec_score = recall_score(y_test, dt4_y_pred)\n",
    "\n",
    "# Rounding the evaluation metrics to three decimal places\n",
    "dt4_prec_score = round(dt4_prec_score, 3)\n",
    "dt4_acc_score = round(dt4_acc_score, 3)\n",
    "dt4_f1_score = round(dt4_f1_score, 3)\n",
    "dt4_rec_score = round(dt4_rec_score, 3)\n",
    "\n",
    "# Printing the rounded evaluation metrics\n",
    "print(\"Selected Features Metrics:\")\n",
    "print(f\"Precision Score: {dt4_prec_score}\")\n",
    "print(f\"Accuracy Score: {dt4_acc_score}\")\n",
    "print(f\"F1 Score: {dt4_f1_score}\")\n",
    "print(f\"Recall Score: {dt4_rec_score}\")\n"
   ]
  },
  {
   "cell_type": "markdown",
   "metadata": {},
   "source": [
    ">The \"Tuned\" Decision Tree Classifier outperforms the Decision Tree Model with selected features in F1 Score (0.809 vs. 0.757), Accuracy Score (0.948 vs. 0.929), and Precision Score (0.798 vs. 0.697).\n",
    "However, the Recall Score is almost equal (0.820 vs. 0.829 )."
   ]
  },
  {
   "cell_type": "markdown",
   "metadata": {},
   "source": [
    "## 3. Fitting a Random Forest Model"
   ]
  },
  {
   "cell_type": "code",
   "execution_count": 38,
   "metadata": {},
   "outputs": [
    {
     "name": "stdout",
     "output_type": "stream",
     "text": [
      "Random Forest Model Metrics:\n",
      "Precision Score: 0.791\n",
      "Accuracy Score: 0.947\n",
      "F1 Score: 0.805\n",
      "Recall Score: 0.82\n"
     ]
    }
   ],
   "source": [
    "# Train the Random Forest classifier\n",
    "rf = RandomForestClassifier(n_estimators=100, random_state=42)\n",
    "rf.fit(X_train_resampled, y_train_resampled)\n",
    "\n",
    "# Make predictions on the test data\n",
    "rf_y_pred = rf.predict(X_test)\n",
    "\n",
    "# Calculate evaluation metrics\n",
    "rf_f1_score = round(f1_score(y_test, rf_y_pred), 3)\n",
    "rf_acc_score = round(accuracy_score(y_test, rf_y_pred), 3)\n",
    "rf_prec_score = round(precision_score(y_test, rf_y_pred), 3)\n",
    "rf_rec_score = round(recall_score(y_test, rf_y_pred), 3)\n",
    "\n",
    "# Print the evaluation metrics\n",
    "print(\"Random Forest Model Metrics:\")\n",
    "print(f\"Precision Score: {rf_prec_score}\")\n",
    "print(f\"Accuracy Score: {rf_acc_score}\")\n",
    "print(f\"F1 Score: {rf_f1_score}\")\n",
    "print(f\"Recall Score: {rf_rec_score}\")\n"
   ]
  },
  {
   "cell_type": "markdown",
   "metadata": {},
   "source": [
    "#### Hyper- parameter Tuning For a Random Forest Model"
   ]
  },
  {
   "cell_type": "code",
   "execution_count": 39,
   "metadata": {},
   "outputs": [
    {
     "name": "stdout",
     "output_type": "stream",
     "text": [
      "Hyperparameter Tuning for Random Forest Model:\n",
      "Best Parameters:\n",
      "max_depth: 15\n",
      "min_samples_leaf: 1\n",
      "min_samples_split: 2\n",
      "n_estimators: 200\n",
      "Best Score: 0.949\n"
     ]
    }
   ],
   "source": [
    "# Define the parameter grid to search through\n",
    "param_grid = {\n",
    "    'n_estimators': [100, 150, 200],\n",
    "    'max_depth': [5, 10, 15],\n",
    "    'min_samples_split': [2, 5, 10],\n",
    "    'min_samples_leaf': [1, 2, 4]\n",
    "}\n",
    "\n",
    "# Scores\n",
    "scores = ['f1', 'recall', 'precision']\n",
    "\n",
    "# Create a grid search object using 5-fold cross-validation\n",
    "grid_search = GridSearchCV(rf, param_grid, cv=5, scoring=scores, refit='f1', n_jobs=-1)\n",
    "\n",
    "# Fit the grid search to the data\n",
    "grid_search.fit(X_train_resampled, y_train_resampled)\n",
    "\n",
    "# Get the best parameters from the grid search\n",
    "best_params = grid_search.best_params_\n",
    "\n",
    "# Print the best parameters and the best score with 3 decimal places\n",
    "print(\"Hyperparameter Tuning for Random Forest Model:\")\n",
    "print(\"Best Parameters:\")\n",
    "for param, value in best_params.items():\n",
    "    print(f\"{param}: {value}\")\n",
    "\n",
    "best_score = round(grid_search.best_score_, 3)\n",
    "print(f\"Best Score: {best_score}\")\n"
   ]
  },
  {
   "cell_type": "markdown",
   "metadata": {},
   "source": [
    "> Using GridSearchCV we got the best f1 score of 0.949 "
   ]
  },
  {
   "cell_type": "markdown",
   "metadata": {},
   "source": [
    "#### Fitting the Random ForestClassifier with the best parameters"
   ]
  },
  {
   "cell_type": "code",
   "execution_count": 40,
   "metadata": {},
   "outputs": [
    {
     "name": "stdout",
     "output_type": "stream",
     "text": [
      "Random Forest Model with Best Parameters:\n",
      "The Precision: 0.796\n",
      "The Accuracy: 0.947\n",
      "F1 Score: 0.804\n",
      "The Recall Score: 0.811\n"
     ]
    }
   ],
   "source": [
    "# Train the random forest classifier\n",
    "rf2 = RandomForestClassifier(n_estimators=150,\n",
    "                             random_state=42,\n",
    "                             max_depth=15,\n",
    "                             min_samples_leaf=1,\n",
    "                             min_samples_split=2)\n",
    "rf2.fit(X_train_resampled, y_train_resampled)\n",
    "\n",
    "# Make predictions on the test data\n",
    "rf2_y_pred = rf2.predict(X_test)\n",
    "\n",
    "# Evaluate the model's accuracy\n",
    "rf2_f1_score = round(f1_score(y_test, rf2_y_pred), 3)\n",
    "rf2_acc_score = round(accuracy_score(y_test, rf2_y_pred), 3)\n",
    "rf2_prec_score = round(precision_score(y_test, rf2_y_pred), 3)\n",
    "rf2_rec_score = round(recall_score(y_test, rf2_y_pred), 3)\n",
    "\n",
    "\n",
    "print(\"Random Forest Model with Best Parameters:\")\n",
    "print(f'The Precision: {rf2_prec_score}')\n",
    "print(f'The Accuracy: {rf2_acc_score}')\n",
    "print(f'F1 Score: {rf2_f1_score}')\n",
    "print(f'The Recall Score: {rf2_rec_score}')"
   ]
  },
  {
   "cell_type": "markdown",
   "metadata": {},
   "source": [
    ">Tuning the Random Forest Classifier with the best hyper parameters yields F1 score 0.804"
   ]
  },
  {
   "cell_type": "markdown",
   "metadata": {},
   "source": [
    "#### False Positive and False Negative Trade Off"
   ]
  },
  {
   "cell_type": "markdown",
   "metadata": {},
   "source": [
    " * In our business scenario, we cannot afford the possibility of incorrectly identifying a customer as unlikely to churn (False Negative) and then experiencing their churn. \n",
    " \n",
    "* Instead, we prefer to classify customers as False Positives and implement retention strategies for them. This decision has led us to modify our model's threshold in order to improve our recall score, which currently stands at 0.811 in rf2."
   ]
  },
  {
   "cell_type": "code",
   "execution_count": 41,
   "metadata": {},
   "outputs": [
    {
     "name": "stdout",
     "output_type": "stream",
     "text": [
      "Random Forest Model:\n",
      "\n",
      "Accuracy: 0.927\n",
      "Precision: 0.679\n",
      "Recall: 0.856\n",
      "F1 Score: 0.757\n"
     ]
    }
   ],
   "source": [
    "# Predict class probabilities\n",
    "y_probs = rf2.predict_proba(X_test)\n",
    "\n",
    "# Set the threshold for positive class prediction\n",
    "threshold = 0.4 \n",
    "y_pred = (y_probs[:, 1] >= threshold).astype(int)\n",
    "\n",
    "# Evaluate the performance\n",
    "\n",
    "print(\"Random Forest Model:\")\n",
    "\n",
    "# Print an empty line\n",
    "print()\n",
    "\n",
    "print(\"Accuracy:\", round(accuracy_score(y_test, y_pred), 3))\n",
    "print(\"Precision:\", round(precision_score(y_test, y_pred), 3))\n",
    "print(\"Recall:\", round(recall_score(y_test, y_pred), 3))\n",
    "print(\"F1 Score:\", round(f1_score(y_test, y_pred), 3))\n"
   ]
  },
  {
   "cell_type": "markdown",
   "metadata": {},
   "source": [
    "* By modifying the threshold value from the default 0.5 to 0.4, we aimed to decrease the occurrence of False Negatives while increasing the likelihood of False Positives. As expected, this adjustment resulted in an improved recall score of 0.856. "
   ]
  },
  {
   "cell_type": "markdown",
   "metadata": {},
   "source": [
    "#### Summary of results:\n",
    "\n",
    "* Decision Tree Classifier:\n",
    "\n",
    "    * Precision: 0.798\n",
    "    * Accuracy: 0.948\n",
    "    * F1 Score: 0.809\n",
    "    * Recall: 0.820\n",
    "    \n",
    "\n",
    "* Random Forest Model:\n",
    "    * Precision: 0.679\n",
    "    * Accuracy: 0.927\n",
    "    * F1 Score: 0.757\n",
    "    * Recall: 0.856\n",
    "    \n",
    "\n",
    "* Logistic Regression:\n",
    "\n",
    "    * Precision: 0.555\n",
    "    * Accuracy: 0.887\n",
    "    * F1 Score: 0.647\n",
    "    * Recall: 0.775\n",
    "\n",
    "The Decision Tree Classifier (Tuned) outperforms the other models in multiple aspects:\n",
    "\n",
    "Accuracy: It has the highest accuracy score (0.948), indicating that it correctly classifies a significant proportion of the test data.\n",
    "\n",
    "Precision: The precision score of 0.798 is relatively high, suggesting that it makes fewer false positive predictions, which is valuable when precision is a priority.\n",
    "\n",
    "F1 Score: The F1 score of 0.809 indicates a good balance between precision and recall, making it a robust model for binary classification tasks.\n",
    "\n",
    "Recall: While the Recall score of 0.820 is slightly lower than the Random Forest model, it is still strong and suggests that the model is effective at identifying true positive cases.\n",
    "\n",
    "It's important to consider the specific goals of the modeling task. If precision and accuracy are critical, the Decision Tree Classifier is the top choice. However, if a balance between precision and recall is essential, it remains the preferred option. \n",
    "\n",
    "The choice ultimately depends on the specific requirements and trade-offs relevant to the problem.\n",
    "\n",
    "The Random Forest Model aligns better with our business requirements as it minimizes the risk of losing customers who were incorrectly classified.\n"
   ]
  },
  {
   "cell_type": "markdown",
   "metadata": {},
   "source": [
    "## Feature Importance"
   ]
  },
  {
   "cell_type": "code",
   "execution_count": 42,
   "metadata": {},
   "outputs": [
    {
     "name": "stdout",
     "output_type": "stream",
     "text": [
      "                   feature  importance\n",
      "13  customer service calls       0.166\n",
      "1        total day minutes       0.137\n",
      "3         total day charge       0.129\n",
      "11        total intl calls       0.095\n",
      "6         total eve charge       0.062\n"
     ]
    }
   ],
   "source": [
    "# Get the feature importances\n",
    "importances = rf2.feature_importances_\n",
    "\n",
    "# Create a dataframe to store the feature importances\n",
    "feature_importances = pd.DataFrame({'feature': X_train.columns, 'importance': importances})\n",
    "\n",
    "# Sort the dataframe by the feature importances in descending order\n",
    "feature_importances = feature_importances.sort_values('importance', ascending=False)\n",
    "\n",
    "# Print the first few rows of the feature importances with 3 decimal places\n",
    "print(feature_importances.head().round(3))"
   ]
  },
  {
   "cell_type": "code",
   "execution_count": 43,
   "metadata": {},
   "outputs": [
    {
     "data": {
      "image/png": "[encoded data removed]",
      "text/plain": [
       "<Figure size 720x576 with 1 Axes>"
      ]
     },
     "metadata": {
      "needs_background": "light"
     },
     "output_type": "display_data"
    }
   ],
   "source": [
    "plt.figure(figsize=[10,8])\n",
    "plt.scatter(feature_importances['importance'], feature_importances['feature'])\n",
    "plt.xlabel('Importance')\n",
    "plt.ylabel('Feature')\n",
    "plt.title('Feature Importance Scatter Plot')\n",
    "plt.yticks(rotation=0)  # To make feature names readable\n",
    "plt.show()\n"
   ]
  },
  {
   "cell_type": "code",
   "execution_count": 44,
   "metadata": {},
   "outputs": [
    {
     "data": {
      "image/png": "[encoded data removed]",
      "text/plain": [
       "<Figure size 432x288 with 1 Axes>"
      ]
     },
     "metadata": {
      "needs_background": "light"
     },
     "output_type": "display_data"
    }
   ],
   "source": [
    "# Top Five important features\n",
    "data = {\"customer service calls\": 0.166, \"total day minutes\": 0.137, \"total day charge\":0.129, \"total intl calls\": 0.095, \"total eve charge\": 0.062}\n",
    "\n",
    "# Plotting the bar graph\n",
    "fig, ax = plt.subplots()\n",
    "ax.barh(list(data.keys()), list(data.values()))\n",
    "\n",
    "# Customizing the appearance of bar graph\n",
    "plt.xlabel(\"Importance Score\")\n",
    "plt.ylabel(\"Features\")\n",
    "plt.title(\"Feature Importance\")\n",
    "\n",
    "# Spacing the bars apart\n",
    "ax.xaxis.set_ticks_position(\"bottom\")\n",
    "ax.yaxis.set_ticks_position(\"left\")\n",
    "\n",
    "# Showing the graph\n",
    "plt.tight_layout()\n",
    "plt.show()"
   ]
  },
  {
   "cell_type": "markdown",
   "metadata": {},
   "source": [
    " * The feature importance plot highlights key factors contributing to customer churn.\n",
    "    * Customer service calls, total day minutes, and total day charge are identified as the most influential features.\n",
    "    * To reduce churn and improve customer satisfaction, the telco businesses should focus on enhancing customer experience and services.\n",
    "    * Monitoring the number of customer service calls is crucial, as a high volume may indicate customer dissatisfaction.\n",
    "    * Implementing strategies to reduce daytime charges is also recommended.\n",
    "    \n",
    " * These insights can inform the development of targeted retention and engagement programs."
   ]
  },
  {
   "cell_type": "markdown",
   "metadata": {},
   "source": [
    "## Model Deployment"
   ]
  },
  {
   "cell_type": "code",
   "execution_count": 45,
   "metadata": {},
   "outputs": [],
   "source": [
    "import pickle\n",
    "\n",
    "# Your trained model\n",
    "model = rf2  # Assuming rf2 is your trained model\n",
    "\n",
    "# Save the model to a pickle file with the name \"ML_Model_Customer_Churn.pkl\"\n",
    "with open(\"ML_Model_Customer_Churn.pkl\", \"wb\") as file:\n",
    "    pickle.dump(model, file)\n"
   ]
  },
  {
   "cell_type": "markdown",
   "metadata": {},
   "source": [
    "## Limitations\n",
    "\n",
    "* Feature Relevance: \n",
    "    * Not all dataset features were impactful for predicting churn, leading to potential model inefficiencies.\n",
    "    \n",
    "    * lack of detailed information on states and area codes, prevented further in-depth exploration.\n",
    "    \n",
    "    * Addressing regional variations is paramount to crafting effective retention strategies.\n",
    "      \n",
    "* Modeling:\n",
    "\n",
    "    * Model Selection: Despite using Logistic Regression, the focus was on tree-based models. Exploring models like gradient boosting or neural networks might enhance performance.\n",
    "    \n",
    "    * Further research and analysis, considering additional data sources and alternative modeling approaches, are recommended to enhance our understanding and strategy for reducing customer churn effectively. \n",
    "    \n",
    "* External Factors:\n",
    "\n",
    "    * Temporal Changes: The data might exhibit unnoticed trends over time, affecting the analysis.\n",
    "    \n",
    "    * Bias Concerns: Potential biases, such as geographic or demographic, in the dataset could skew results.\n",
    "* Generalization:\n",
    "\n",
    "    * Overfitting Risk: Models, especially complex ones like Random Forest, might overfit, necessitating robust validation and regularization."
   ]
  },
  {
   "cell_type": "markdown",
   "metadata": {},
   "source": [
    "\n",
    "## Recommendations\n",
    "\n",
    "Based on the analysis, I derived several actionable insights that can help the business reduce customer churn. Implementing these strategies can lead to increased customer retention and, consequently, higher profitability.\n",
    "\n",
    "- Focus on improving customer service as it's a major determinant of customer satisfaction.\n",
    "- Engage with customers who have high daily usage as they are more likely to churn.\n",
    "- Consider special plans or offers for long-term customers and regions with high churn rates to incentivize loyalty."
   ]
  },
  {
   "cell_type": "markdown",
   "metadata": {},
   "source": [
    "## Conclusion\n",
    "\n",
    "In summary, our analysis unveils limitations in feature relevance, model selection, potential external influences, and the risk of overfitting. Despite these constraints, we derive actionable recommendations, emphasizing improvements in customer service, engagement with high-usage customers, and the implementation of loyalty incentives to mitigate churn. It's imperative for businesses to recognize and leverage these insights to enhance customer retention and drive profitability.\n",
    "\n",
    "Additionally, we underscore the importance of addressing states or area codes with high churn rates, as these regions may require tailored strategies for effective churn reduction. Ongoing exploration and validation, potentially involving alternative modeling approaches, remain essential for refining churn reduction strategies.\n"
   ]
  }
 ],
 "metadata": {
  "kernelspec": {
   "display_name": "Python (learn-env)",
   "language": "python",
   "name": "learn-env"
  },
  "language_info": {
   "codemirror_mode": {
    "name": "ipython",
    "version": 3
   },
   "file_extension": ".py",
   "mimetype": "text/x-python",
   "name": "python",
   "nbconvert_exporter": "python",
   "pygments_lexer": "ipython3",
   "version": "3.8.5"
  }
 },
 "nbformat": 4,
 "nbformat_minor": 4
}
